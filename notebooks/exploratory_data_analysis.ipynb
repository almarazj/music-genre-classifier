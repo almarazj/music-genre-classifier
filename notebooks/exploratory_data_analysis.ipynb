{
 "cells": [
  {
   "cell_type": "markdown",
   "metadata": {},
   "source": [
    "Cargar los archivos .wav del dataset para ver su nivel."
   ]
  },
  {
   "cell_type": "code",
   "execution_count": 11,
   "metadata": {},
   "outputs": [
    {
     "name": "stdout",
     "output_type": "stream",
     "text": [
      "Loudness of the file blues.00000.wav: -17.52670922146246 dB\n",
      "Loudness of the file blues.00001.wav: -20.43872645327597 dB\n",
      "Loudness of the file blues.00002.wav: -14.903780159169354 dB\n",
      "Loudness of the file blues.00003.wav: -17.555090139318697 dB\n",
      "Loudness of the file blues.00004.wav: -19.132409971047515 dB\n",
      "Loudness of the file blues.00005.wav: -17.538009932545254 dB\n",
      "Loudness of the file blues.00006.wav: -14.66566864811852 dB\n",
      "Loudness of the file blues.00007.wav: -16.17836928978003 dB\n",
      "Loudness of the file blues.00008.wav: -17.734219835079404 dB\n",
      "Loudness of the file blues.00009.wav: -18.095996136305267 dB\n"
     ]
    }
   ],
   "source": [
    "import os\n",
    "import numpy as np\n",
    "import librosa\n",
    "import pyloudnorm as pyln\n",
    "\n",
    "blues_path = 'C:\\\\Users\\\\jalma\\\\Repositories\\\\machine_learning_challenge\\\\dataset\\\\genres_original\\\\blues'\n",
    "\n",
    "for file in os.listdir(blues_path)[:10]:\n",
    "    file_path = os.path.join(blues_path, file)\n",
    "    y, sr = librosa.load(file_path)\n",
    "\n",
    "    meter = pyln.Meter(sr)\n",
    "    loudness = meter.integrated_loudness(y)\n",
    "    print(f'Loudness of the file {file}: {loudness} dB')\n",
    "\n"
   ]
  },
  {
   "cell_type": "markdown",
   "metadata": {},
   "source": [
    "Ahora hago lo mismo pero con las inferencias"
   ]
  },
  {
   "cell_type": "code",
   "execution_count": 10,
   "metadata": {},
   "outputs": [
    {
     "name": "stdout",
     "output_type": "stream",
     "text": [
      "Loudness of the file Blues_Gary Moore_Still Got The Blues.wav: -17.744620485559985 dB\n",
      "Loudness of the file Classical_Beethoven_Moonlight Sonata (3rd Movement).wav: -17.673970274454476 dB\n",
      "Loudness of the file Country_Bela Fleck_Big Country.wav: -17.626018895276108 dB\n",
      "Loudness of the file Disco_Bee Gees_You Should Be Dancing.wav: -20.78247146190785 dB\n",
      "Loudness of the file HipHop_The Notorious B.I.G._Big Poppa.wav: -11.96901185593204 dB\n",
      "Loudness of the file Jazz_Bill Evans Trio_Autumn Leaves.wav: -20.832582281307495 dB\n",
      "Loudness of the file Metal_Anthrax_Madhouse.wav: -19.887796990126308 dB\n",
      "Loudness of the file Pop_Justin Bieber_Hold On.wav: -10.507348455902646 dB\n",
      "Loudness of the file Reggae_Bob Marley_Is This Love.wav: -19.915366115640953 dB\n",
      "Loudness of the file Rock_Intoxicados_Quieren Rock.wav: -11.271464398681072 dB\n"
     ]
    }
   ],
   "source": [
    "inference_path = 'C:\\\\Users\\\\jalma\\\\Repositories\\\\machine_learning_challenge\\\\songs\\\\wav'\n",
    "\n",
    "for file in os.listdir(inference_path):\n",
    "    file_path = os.path.join(inference_path, file)\n",
    "    y, sr = librosa.load(file_path)\n",
    "\n",
    "    meter = pyln.Meter(sr)\n",
    "    loudness = meter.integrated_loudness(y)\n",
    "    print(f'Loudness of the file {file}: {loudness} dB')"
   ]
  },
  {
   "cell_type": "markdown",
   "metadata": {},
   "source": [
    "Veo los espectrogramas de algunos de los audios en el dataset"
   ]
  },
  {
   "cell_type": "code",
   "execution_count": null,
   "metadata": {},
   "outputs": [],
   "source": [
    "def split_audio(y: np.ndarray,\n",
    "                sr: int,\n",
    "                segment_length: int = 3) -> list:    \n",
    "    \"\"\"\n",
    "    Splits an audio file into a specified number of equal segments.\n",
    "\n",
    "    Parameters\n",
    "    ----------\n",
    "    y : np.ndarray\n",
    "        Audio signal to split.\n",
    "    sr : int\n",
    "        Sample rate of the audio signal.\n",
    "    n_segments : int\n",
    "        The number of segments to split the audio into (default is 10).\n",
    "    \n",
    "    Returns\n",
    "    -------\n",
    "    list of np.ndarray\n",
    "        A list containing the audio segments as numpy arrays.\n",
    "    \"\"\"\n",
    "    samples_per_segment = sr * segment_length\n",
    "    n_segments = len(y) // samples_per_segment\n",
    "    remainder = len(y) % samples_per_segment\n",
    "    segments = []\n",
    "\n",
    "    start = 0 \n",
    "    for i in range(n_segments):\n",
    "        end = start + samples_per_segment\n",
    "\n",
    "        if i < remainder:\n",
    "            end += 1\n",
    "        segment = y[start:end]\n",
    "        segments.append(segment)\n",
    "        start = end\n",
    "\n",
    "    return segments\n",
    "\n",
    "segment_length = 3\n",
    "segments = split_audio(y, sr, segment_length)\n",
    "expected_segment_length = sr * segment_length\n",
    "\n",
    "for i, segment in enumerate(segments):\n",
    "    segment = librosa.util.fix_length(segment, size=expected_segment_length)\n",
    "    \n",
    "    S = librosa.feature.melspectrogram(y=segment, sr=sr, n_fft=1024, \n",
    "                                        hop_length=512, n_mels=128)\n",
    "    S_dB = librosa.power_to_db(S, ref=np.max)\n",
    "    \n",
    "    assert S_dB.shape == (128, 130), \\\n",
    "        f\"Inconsistent spectrogram shape: {S_dB.shape}\"  \n",
    "    "
   ]
  }
 ],
 "metadata": {
  "kernelspec": {
   "display_name": "Python 3",
   "language": "python",
   "name": "python3"
  },
  "language_info": {
   "codemirror_mode": {
    "name": "ipython",
    "version": 3
   },
   "file_extension": ".py",
   "mimetype": "text/x-python",
   "name": "python",
   "nbconvert_exporter": "python",
   "pygments_lexer": "ipython3",
   "version": "3.10.2"
  }
 },
 "nbformat": 4,
 "nbformat_minor": 2
}
